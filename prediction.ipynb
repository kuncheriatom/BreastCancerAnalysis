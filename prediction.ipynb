{
 "cells": [
  {
   "cell_type": "code",
   "execution_count": 10,
   "metadata": {},
   "outputs": [],
   "source": [
    "import pandas as pd\n",
    "import tensorflow as tf\n",
    "import pickle\n",
    "import numpy as np\n"
   ]
  },
  {
   "cell_type": "code",
   "execution_count": 11,
   "metadata": {},
   "outputs": [
    {
     "name": "stderr",
     "output_type": "stream",
     "text": [
      "WARNING:absl:Compiled the loaded model, but the compiled metrics have yet to be built. `model.compile_metrics` will be empty until you train or evaluate the model.\n"
     ]
    }
   ],
   "source": [
    "# Load the scaler and model\n",
    "with open('scaler.pkl', 'rb') as f:\n",
    "    scaler = pickle.load(f)\n",
    "\n",
    "model = tf.keras.models.load_model('ann_model_with_dropout.h5')\n"
   ]
  },
  {
   "cell_type": "code",
   "execution_count": 18,
   "metadata": {},
   "outputs": [],
   "source": [
    "# Load the pickled feature selector\n",
    "with open('kbest.pkl', 'rb') as f:\n",
    "    kbest = pickle.load(f)"
   ]
  },
  {
   "cell_type": "code",
   "execution_count": 12,
   "metadata": {},
   "outputs": [],
   "source": [
    "# Define the feature names\n",
    "feature_names = [\n",
    "    'radius_mean', 'perimeter_mean', 'area_mean', 'concavity_mean',\n",
    "    'concave points_mean', 'radius_worst', 'perimeter_worst', 'area_worst',\n",
    "    'concavity_worst', 'concave points_worst'\n",
    "]\n"
   ]
  },
  {
   "cell_type": "code",
   "execution_count": 13,
   "metadata": {},
   "outputs": [],
   "source": [
    "# Sample data from the dataset\n",
    "sample_data = {\n",
    "    'radius_mean': 17.99,\n",
    "    'perimeter_mean': 122.8,\n",
    "    'area_mean': 1001,\n",
    "    'concavity_mean': 0.1471,\n",
    "    'concave points_mean': 0.2419,\n",
    "    'radius_worst': 25.38,\n",
    "    'perimeter_worst': 184.6,\n",
    "    'area_worst': 2019,\n",
    "    'concavity_worst': 0.2654,\n",
    "    'concave points_worst': 0.4601\n",
    "}\n"
   ]
  },
  {
   "cell_type": "code",
   "execution_count": 14,
   "metadata": {},
   "outputs": [],
   "source": [
    "# Convert sample data to DataFrame\n",
    "input_df = pd.DataFrame([sample_data])\n"
   ]
  },
  {
   "cell_type": "code",
   "execution_count": 15,
   "metadata": {},
   "outputs": [],
   "source": [
    "# Ensure the input DataFrame has the same columns as the scaler expects\n",
    "input_df = input_df.reindex(columns=scaler.feature_names_in_, fill_value=0)\n",
    "\n",
    "# Scale the Input Data\n",
    "scaled_input = scaler.transform(input_df)"
   ]
  },
  {
   "cell_type": "code",
   "execution_count": 19,
   "metadata": {},
   "outputs": [],
   "source": [
    "# Apply the Feature Selector to the Scaled Input Data\n",
    "input_df_transformed = kbest.transform(scaled_input)"
   ]
  },
  {
   "cell_type": "code",
   "execution_count": 20,
   "metadata": {},
   "outputs": [
    {
     "name": "stdout",
     "output_type": "stream",
     "text": [
      "\u001b[1m1/1\u001b[0m \u001b[32m━━━━━━━━━━━━━━━━━━━━\u001b[0m\u001b[37m\u001b[0m \u001b[1m0s\u001b[0m 51ms/step\n",
      "The predicted diagnosis is: Malignant\n"
     ]
    }
   ],
   "source": [
    "# Make Predictions\n",
    "prediction = model.predict(input_df_transformed)\n",
    "prediction_label = 'Malignant' if prediction > 0.5 else 'Benign'\n",
    "print(f\"The predicted diagnosis is: {prediction_label}\")"
   ]
  }
 ],
 "metadata": {
  "kernelspec": {
   "display_name": "env",
   "language": "python",
   "name": "python3"
  },
  "language_info": {
   "codemirror_mode": {
    "name": "ipython",
    "version": 3
   },
   "file_extension": ".py",
   "mimetype": "text/x-python",
   "name": "python",
   "nbconvert_exporter": "python",
   "pygments_lexer": "ipython3",
   "version": "3.11.9"
  }
 },
 "nbformat": 4,
 "nbformat_minor": 2
}
